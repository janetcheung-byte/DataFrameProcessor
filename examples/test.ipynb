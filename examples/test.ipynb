{
 "cells": [
  {
   "cell_type": "code",
   "execution_count": null,
   "metadata": {
    "vscode": {
     "languageId": "plaintext"
    }
   },
   "outputs": [],
   "source": [
    "import pandas as pd\n",
    "import matplotlib.pyplot as plt\n",
    "import numpy as np\n",
    "from dataframe_processor import DataFrameProcessor\n",
    "import warnings\n",
    "warnings.filterwarnings(\"ignore\")\n",
    "\n",
    "pd.set_option('display.max_columns', None)\n",
    "\n",
    "\n",
    "# Load sample data\n",
    "df = pd.read_csv('test.csv').copy()\n",
    "\n",
    "# Define binary mapping before creating instance of DataFrameProcessor\n",
    "yes_no_mapping = {'Yes': 1, 'No': 0, 'yes': 1, 'no': 0, 'True': 1, 'False': 0, 'true': 1, 'false': 0}\n",
    "\n",
    "# Create an instance of DataFrameProcessor\n",
    "processor = DataFrameProcessor(df)\n",
    "\n",
    "# Remove unnecessary columns\n",
    "processor.remove_columns(['CaseOrder', 'Customer_id', 'UID', 'Interaction', 'City', 'State', 'County', 'Zip', 'Lat', 'Lng'])\n",
    "\n",
    "# Run processing methods\n",
    "processor.handle_duplicate_na()\n",
    "processor.handle_quantitative_outliers()\n",
    "\n",
    "processor.process_encoding(binary_mapping=yes_no_mapping)\n",
    "\n",
    "# Retrieve the processed DataFrame\n",
    "df_processed = processor.get_processed_df()\n",
    "print(\"\\nProcessed DataFrame:\")\n",
    "print(df_processed.info())"
   ]
  }
 ],
 "metadata": {
  "language_info": {
   "name": "python"
  }
 },
 "nbformat": 4,
 "nbformat_minor": 2
}
